{
 "cells": [
  {
   "cell_type": "markdown",
   "metadata": {},
   "source": [
    "# Aceleradores descenso de gradiente"
   ]
  },
  {
   "cell_type": "code",
   "execution_count": 5,
   "metadata": {},
   "outputs": [],
   "source": [
    "import numpy as np"
   ]
  },
  {
   "cell_type": "code",
   "execution_count": null,
   "metadata": {},
   "outputs": [],
   "source": [
    "def gradientN(X,f,n):\n",
    "    grad = np.zeros(n)\n",
    "    h = 1e-12\n",
    "    for i in range(0,n-1):\n",
    "        e = np.zeros(n)\n",
    "        e[i] = 1\n",
    "        grad[i] = (f(X+e*h)-f(X))/h\n",
    "    \n",
    "    return grad"
   ]
  },
  {
   "cell_type": "code",
   "execution_count": null,
   "metadata": {},
   "outputs": [],
   "source": [
    "def rosenbrockN(X):\n",
    "    sum = 0\n",
    "    n = len(X)\n",
    "    \n",
    "    for i in range(0,n-2):\n",
    "        sum = sum + (1-X[i])**2 + 100*(X[i+1]-X[i]**2)**2\n",
    "    return sum"
   ]
  },
  {
   "cell_type": "code",
   "execution_count": null,
   "metadata": {},
   "outputs": [],
   "source": [
    "def adagrad(X,f):\n",
    "    n = len(X)\n",
    "    G = np.zeros(n)\n",
    "    e = 1e-10\n",
    "    max_iter = 10000\n",
    "    toler = 1e-5\n",
    "    \n",
    "    print(\"Empezando..\")\n",
    "    \n",
    "    for i in range(0,max_iter):\n",
    "        g = gradientN(X,f,n)\n",
    "        G += g**2\n",
    "        \n",
    "        if(np.linalg.norm(g)<toler):\n",
    "            break\n",
    "        #print(\"Iteracion: \"+str(i)+\"\\t X: \"+str(X)+\" \\t||g||: \"+str(np.linalg.norm(g)))\n",
    "        print(\"Iteracion: \"+str(i)+\"\\t ||g||: \"+str(np.linalg.norm(g)))\n",
    "        α  = 0.3\n",
    "        X = X - (α/np.sqrt(G + e))*g\n",
    "    print(\"Terminando..\")    \n",
    "    return X"
   ]
  },
  {
   "cell_type": "code",
   "execution_count": null,
   "metadata": {},
   "outputs": [],
   "source": [
    "n = 10\n",
    "X = np.ones(n)\n",
    "X[0] = 0\n",
    "\n",
    "adagrad(X,rosenbrockN)"
   ]
  }
 ],
 "metadata": {
  "kernelspec": {
   "display_name": "Python 3",
   "language": "python",
   "name": "python3"
  },
  "language_info": {
   "codemirror_mode": {
    "name": "ipython",
    "version": 3
   },
   "file_extension": ".py",
   "mimetype": "text/x-python",
   "name": "python",
   "nbconvert_exporter": "python",
   "pygments_lexer": "ipython3",
   "version": "3.7.6"
  }
 },
 "nbformat": 4,
 "nbformat_minor": 4
}
