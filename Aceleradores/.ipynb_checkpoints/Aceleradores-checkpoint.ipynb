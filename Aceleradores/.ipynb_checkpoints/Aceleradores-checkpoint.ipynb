{
 "cells": [
  {
   "cell_type": "markdown",
   "metadata": {},
   "source": [
    "# Aceleradores descenso de gradiente"
   ]
  },
  {
   "cell_type": "code",
   "execution_count": 5,
   "metadata": {},
   "outputs": [],
   "source": [
    "import numpy as np"
   ]
  },
  {
   "cell_type": "markdown",
   "metadata": {},
   "source": [
    "### Descenso de gradiente con Momento\n",
    "Sirve para acelear el descenso de gradiente, guiando la búsqueda en la dirección relevante, y amortiguando las posibles oscilaciones"
   ]
  },
  {
   "cell_type": "markdown",
   "metadata": {},
   "source": [
    "$g_k = -\\alpha \\nabla f(x_k)$\n",
    "\n",
    "$p_k =  (1-\\eta)p_{k-1}+\\eta g_k$\n",
    "\n",
    "$ \\eta \\approx 0.9$"
   ]
  },
  {
   "cell_type": "markdown",
   "metadata": {},
   "source": [
    "<img src = \"Momento.png\" width = 400/>"
   ]
  },
  {
   "cell_type": "markdown",
   "metadata": {},
   "source": [
    "## Sin momento\n",
    "<img src = \"sin_momento.png\" width = 300 />\n"
   ]
  },
  {
   "cell_type": "markdown",
   "metadata": {},
   "source": [
    "## Con Momento\n",
    "<img src = \"con_momento.png\" width = 300 />"
   ]
  },
  {
   "cell_type": "markdown",
   "metadata": {},
   "source": [
    "### Nesterov\n",
    "\n"
   ]
  },
  {
   "cell_type": "markdown",
   "metadata": {},
   "source": [
    "$\\hat{x}_k = x_k + \\eta p_{k-1}$\n",
    "\n",
    "$g_k = -\\alpha \\nabla(f(\\hat{x}))$\n",
    "\n",
    "$p_k =  g_k +   \\eta p_{k-1}$ \n",
    "\n",
    "\n",
    "\n",
    "$\\eta \\approx 0.9$"
   ]
  },
  {
   "cell_type": "markdown",
   "metadata": {},
   "source": [
    "<img src = \"nag.png\" width = 300/>"
   ]
  },
  {
   "cell_type": "markdown",
   "metadata": {},
   "source": [
    "### Adagrad\n",
    "\n",
    "Penaliza las entradas del vector que han tenido muchos cambios a través del tiempo"
   ]
  },
  {
   "cell_type": "markdown",
   "metadata": {},
   "source": [
    "$g_i^k = \\frac{\\partial f}{\\partial x_i}$\n",
    "\n",
    "$G_i^k = \\sum_{k=0}^n (g_i^k)^2$\n",
    "\n",
    "$\\eta_k = \\frac{\\alpha}{\\sqrt{G_i^k + \\epsilon}}$\n",
    "\n",
    "$x_{k+1} = x_k - \\eta_k g_k$"
   ]
  },
  {
   "cell_type": "markdown",
   "metadata": {},
   "source": [
    "### Adam \n",
    "Además de tener un tamaño de paso diferente para cada entrada, la penalización por los cambios va decayendo. Además utiliza el cuadrado de los gradientes\n",
    "\n",
    "#### (Adaptive Moment Estimation)"
   ]
  },
  {
   "cell_type": "markdown",
   "metadata": {},
   "source": [
    "$p_k = (1-\\eta_1) p_{k-1} + \\eta_1 g_k$\n",
    "\n",
    "$\\hat{p_k} = \\frac{1}{1-\\eta_1}p_k$\n",
    "\n",
    "$v_k = \\eta_2v_{k-1} +(1-\\eta_2)G_k$\n",
    "\n",
    "$G^T = [g_1^2,g_2^2,...,g_d^2]$\n",
    "\n",
    "$\\hat{v_k} = \\frac{1}{1-\\eta_2}v_k$\n",
    "\n",
    "$x_{t+1} = x_t -\\frac{\\alpha}{\\sqrt{\\hat{v_k}}+\\epsilon}\\hat{p_k}$"
   ]
  },
  {
   "cell_type": "markdown",
   "metadata": {},
   "source": [
    "<img src = 'optimizers.gif' width = 400/>"
   ]
  },
  {
   "cell_type": "markdown",
   "metadata": {},
   "source": [
    "<img src = 'optimizers2.gif' width = 400 />"
   ]
  },
  {
   "cell_type": "markdown",
   "metadata": {},
   "source": [
    "## Tarea"
   ]
  },
  {
   "cell_type": "markdown",
   "metadata": {},
   "source": [
    "Optimizar la esfera en dimensión 100 utilizando todos los métodos de aceleración de gradiente"
   ]
  },
  {
   "cell_type": "markdown",
   "metadata": {},
   "source": [
    "Generar una tabla comparativa con el valor del gradiente final. En caso de llegar a la tolerancia antes de el máximo de iteraciones reportar la última iteración. En caso de que llegue al máximo de iteraciones, reportar la última iteración como el máximo.\n",
    "\n"
   ]
  },
  {
   "cell_type": "markdown",
   "metadata": {},
   "source": [
    "<img src = 'tabla.png' width = 300/>"
   ]
  },
  {
   "cell_type": "code",
   "execution_count": null,
   "metadata": {},
   "outputs": [],
   "source": []
  }
 ],
 "metadata": {
  "kernelspec": {
   "display_name": "Python 3",
   "language": "python",
   "name": "python3"
  },
  "language_info": {
   "codemirror_mode": {
    "name": "ipython",
    "version": 3
   },
   "file_extension": ".py",
   "mimetype": "text/x-python",
   "name": "python",
   "nbconvert_exporter": "python",
   "pygments_lexer": "ipython3",
   "version": "3.7.4"
  }
 },
 "nbformat": 4,
 "nbformat_minor": 4
}
