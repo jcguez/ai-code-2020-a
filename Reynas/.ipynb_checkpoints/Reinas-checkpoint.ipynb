{
 "cells": [
  {
   "cell_type": "code",
   "execution_count": 1,
   "metadata": {},
   "outputs": [],
   "source": [
    "#Problema de las 8 reinas"
   ]
  },
  {
   "cell_type": "code",
   "execution_count": 83,
   "metadata": {},
   "outputs": [
    {
     "name": "stdout",
     "output_type": "stream",
     "text": [
      "[1, 2, 5, 3, 6, 0, 4, 7] [1, 6, 4, 7, 3, 0, 5, 2]\n"
     ]
    }
   ],
   "source": [
    "import numpy as np\n",
    "vecinos = []\n",
    "# vecinos.append([1, 2, 5, 3, 6, 0, 4, 7])\n",
    "# vecinos.append([1, 6, 4, 7, 3, 0, 5, 2])\n",
    "print(*vecinos)"
   ]
  },
  {
   "cell_type": "code",
   "execution_count": 84,
   "metadata": {},
   "outputs": [
    {
     "data": {
      "text/plain": [
       "array([2, 7, 1, 4, 3, 6, 0, 5])"
      ]
     },
     "execution_count": 84,
     "metadata": {},
     "output_type": "execute_result"
    }
   ],
   "source": [
    "def generarInicial():\n",
    "    #JC\n",
    "    numbers = np.random.choice(range(8), 8, replace=False)\n",
    "    return numbers #arreglo de 8\n",
    "\n",
    "init_pos = generarInicial()\n",
    "init_pos"
   ]
  },
  {
   "cell_type": "code",
   "execution_count": 85,
   "metadata": {},
   "outputs": [
    {
     "data": {
      "text/plain": [
       "2"
      ]
     },
     "execution_count": 85,
     "metadata": {},
     "output_type": "execute_result"
    }
   ],
   "source": [
    "# Function to generate random numbers\n",
    "np.random.randint(0, 8)"
   ]
  },
  {
   "cell_type": "code",
   "execution_count": 108,
   "metadata": {},
   "outputs": [
    {
     "name": "stdout",
     "output_type": "stream",
     "text": [
      "\\ Origen x:  0  y:  2\n",
      "\\ Cantidad de cruces en diagonal:  0 2 TOTAL:  0\n",
      "/ Origen x:  0  y:  2\n",
      "/ Cantidad de cruces en digonal invertida:  0 2 TOTAL:  0\n",
      "\\ Origen x:  0  y:  6\n",
      "\\ Cantidad de cruces en diagonal:  1 7 TOTAL:  0\n",
      "/ Origen x:  1  y:  7\n",
      "/ Cantidad de cruces en digonal invertida:  1 7 TOTAL:  0\n",
      "\\ Origen x:  1  y:  0\n",
      "\\ Cantidad de cruces en diagonal:  2 1 TOTAL:  1\n",
      "/ Origen x:  0  y:  3\n",
      "/ Cantidad de cruces en digonal invertida:  2 1 TOTAL:  0\n",
      "\\ Origen x:  0  y:  1\n",
      "\\ Cantidad de cruces en diagonal:  3 4 TOTAL:  1\n",
      "/ Origen x:  0  y:  7\n",
      "/ Cantidad de cruces en digonal invertida:  3 4 TOTAL:  1\n",
      "\\ Origen x:  1  y:  0\n",
      "\\ Cantidad de cruces en diagonal:  4 3 TOTAL:  1\n",
      "/ Origen x:  0  y:  7\n",
      "/ Cantidad de cruces en digonal invertida:  4 3 TOTAL:  1\n",
      "\\ Origen x:  0  y:  1\n",
      "\\ Cantidad de cruces en diagonal:  5 6 TOTAL:  1\n",
      "/ Origen x:  4  y:  7\n",
      "/ Cantidad de cruces en digonal invertida:  5 6 TOTAL:  0\n",
      "\\ Origen x:  6  y:  0\n",
      "\\ Cantidad de cruces en diagonal:  6 0 TOTAL:  0\n",
      "/ Origen x:  0  y:  6\n",
      "/ Cantidad de cruces en digonal invertida:  6 0 TOTAL:  0\n",
      "\\ Origen x:  2  y:  0\n",
      "\\ Cantidad de cruces en diagonal:  7 5 TOTAL:  0\n",
      "/ Origen x:  5  y:  7\n",
      "/ Cantidad de cruces en digonal invertida:  7 5 TOTAL:  0\n"
     ]
    },
    {
     "data": {
      "text/plain": [
       "3.0"
      ]
     },
     "execution_count": 108,
     "metadata": {},
     "output_type": "execute_result"
    }
   ],
   "source": [
    "def crucesEnDiagonal(x, y):\n",
    "    contador_cruces = 0\n",
    "    #print(\"Cruces en digonal\", x, y)\n",
    "    # If X equals to Y, origin is 0,0\n",
    "    if(x == y):\n",
    "        #print(\"En identidad\")\n",
    "        origen_x = 0\n",
    "        origen_y = 0\n",
    "    # If X grather than Y, origin is:\n",
    "    #### x^ = x-y AND y^ = 0\n",
    "    elif(x > y):\n",
    "        #print(\"Posicion superior a la diagonal de identidad\")\n",
    "        origen_x = x-y\n",
    "        origen_y = 0\n",
    "    # If Y grather than Y, origin is:\n",
    "    #### x^ = 0 AND y^ = y-x\n",
    "    elif(x < y):\n",
    "        #print(\"Posicion inferior a la diagonal de identidad\")\n",
    "        origen_x = 0\n",
    "        origen_y = y-x\n",
    "    \n",
    "    print(\"\\ Origen x: \", origen_x, \" y: \", origen_y)\n",
    "    pos_x = origen_x\n",
    "    pos_y = origen_y\n",
    "    #Start with the loops of the validation\n",
    "    for cont in range(8):\n",
    "        if(pos_x < 8 and pos_y < 8):  #Validate delimitators\n",
    "            if(init_pos[pos_x] == pos_y and (pos_x != x and pos_y != y)):\n",
    "                contador_cruces += 1\n",
    "            pos_x += 1\n",
    "            pos_y += 1\n",
    "        else:\n",
    "            break\n",
    "    print(\"\\ Cantidad de cruces en diagonal: \", x, y, \"TOTAL: \", contador_cruces)\n",
    "    return contador_cruces\n",
    "\n",
    "def crucesEnDiagonalInvertida(x, y):\n",
    "    contador_cruces = 0\n",
    "    #print(\"Cruces en digonal invertida\", x, y)\n",
    "    # If X+Y equals to 7, origin is 0,7\n",
    "    if((x+y) == 7):\n",
    "        #print(\"En identidad invertida\")\n",
    "        origen_x = 0\n",
    "        origen_y = 7\n",
    "    # If X+Y grather than 7, origin is:\n",
    "    #### x^ = (x+y)-7 AND y^ = 7\n",
    "    elif((x+y) > 7):\n",
    "        #print(\"Posicion inferior a la diagonal de identidad invertida\")\n",
    "        origen_x = (x+y)-7\n",
    "        origen_y = 7\n",
    "    # If X+Y less than 7, origin is:\n",
    "    #### x^ = 0 AND y^ = x+y\n",
    "    elif((x+y) < 7):\n",
    "        #print(\"Posicion superior a la diagonal de identidad invertida\")\n",
    "        origen_x = 0\n",
    "        origen_y = x+y\n",
    "    \n",
    "    print(\"/ Origen x: \", origen_x, \" y: \", origen_y)\n",
    "    pos_x = origen_x\n",
    "    pos_y = origen_y\n",
    "    #Start with the loops of the validation\n",
    "    for cont in range(8):\n",
    "        if(pos_x < 8 and pos_y > -1):  #Validate delimitators\n",
    "            if(init_pos[pos_x] == pos_y and (pos_x != x and pos_y != y)):\n",
    "                contador_cruces += 1\n",
    "            pos_x += 1\n",
    "            pos_y -= 1\n",
    "        else:\n",
    "            break\n",
    "    print(\"/ Cantidad de cruces en digonal invertida: \", x, y, \"TOTAL: \", contador_cruces)\n",
    "    return contador_cruces\n",
    "\n",
    "def existenCruces (posiciones):\n",
    "    cont_cruces = 0\n",
    "    for posicion in posiciones:  #Iterate in each position of the array\n",
    "        cont_cruces += crucesEnDiagonal(posiciones.tolist().index(posicion), posicion)\n",
    "        cont_cruces += crucesEnDiagonalInvertida(posiciones.tolist().index(posicion), posicion)\n",
    "    return cont_cruces/2  # The cross return the number of cross x 2, so we devide the result to get the half\n",
    "existenCruces(init_pos)"
   ]
  },
  {
   "cell_type": "code",
   "execution_count": null,
   "metadata": {},
   "outputs": [],
   "source": [
    "#el primero seria un arreglo de 8 y el segundo una lista de arreglos de 8\n",
    "def generarVecino (posicionActual):\n",
    "    #Generar las posiciones vecinas de las 8 reynas\n",
    "    #Comparar posición actual con las anteriores\n",
    "    for posAct in posicionActual:\n",
    "        # Get the previous positions of each column and append it to an array with the positions\n",
    "        newPos = np.random.randint(0, 8)\n",
    "        while posAct == newPos:\n",
    "            newPos = np.random.randint(0, 8)\n",
    "        # Check previous positions\n",
    "            \n",
    "    return posicionVecina #arreglo de 8"
   ]
  },
  {
   "cell_type": "code",
   "execution_count": null,
   "metadata": {},
   "outputs": [],
   "source": [
    "#Un arreglo de 8\n",
    "def cajaNegra(posiciones):\n",
    "    #Diego\n",
    "    return valor #un entero dependiendo de su valor"
   ]
  },
  {
   "cell_type": "code",
   "execution_count": null,
   "metadata": {},
   "outputs": [],
   "source": [
    "def greedy():\n",
    "    maxIter = 1000\n",
    "    actual = posicionInicial()\n",
    "    valorActual = cajaNegra(actual)\n",
    "    usados = []\n",
    "    for i in range(0,maxIter):\n",
    "        vecino = generarVecino(actual)\n",
    "        \n",
    "        diferente = true\n",
    "        for usado in usados:\n",
    "            if(usado == vecino):\n",
    "                diferente = false\n",
    "                break\n",
    "        \n",
    "        if(diferente):\n",
    "            valorVecino = cajaNegra(vecino)\n",
    "            if(valorVecino < valorActual):\n",
    "                valorActual = valorVecino\n",
    "                usados = [actual]\n",
    "                actual = vecino\n",
    "                \n",
    "                if(valorActual == 0):\n",
    "                    break\n",
    "            else:\n",
    "                usados.push(vecino)\n",
    "        \n",
    "    return actual "
   ]
  },
  {
   "cell_type": "code",
   "execution_count": null,
   "metadata": {},
   "outputs": [],
   "source": [
    "posicionesReinas = greedy()\n",
    "valorFinal = cajaNegra(posicionesReinas)\n",
    "\n",
    "print(\"Posiciones reinas: \" + str(posicionesReinas))\n",
    "print(\"Su valor: \" + str(valorFinal))"
   ]
  }
 ],
 "metadata": {
  "kernelspec": {
   "display_name": "Python 3",
   "language": "python",
   "name": "python3"
  },
  "language_info": {
   "codemirror_mode": {
    "name": "ipython",
    "version": 3
   },
   "file_extension": ".py",
   "mimetype": "text/x-python",
   "name": "python",
   "nbconvert_exporter": "python",
   "pygments_lexer": "ipython3",
   "version": "3.7.4"
  }
 },
 "nbformat": 4,
 "nbformat_minor": 4
}
