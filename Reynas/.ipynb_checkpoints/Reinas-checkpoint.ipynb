{
 "cells": [
  {
   "cell_type": "code",
   "execution_count": 1,
   "metadata": {},
   "outputs": [],
   "source": [
    "#Problema de las 8 reinas"
   ]
  },
  {
   "cell_type": "code",
   "execution_count": 83,
   "metadata": {},
   "outputs": [
    {
     "name": "stdout",
     "output_type": "stream",
     "text": [
      "[1, 2, 5, 3, 6, 0, 4, 7] [1, 6, 4, 7, 3, 0, 5, 2]\n"
     ]
    }
   ],
   "source": [
    "import numpy as np\n",
    "vecinos = []\n",
    "# vecinos.append([1, 2, 5, 3, 6, 0, 4, 7])\n",
    "# vecinos.append([1, 6, 4, 7, 3, 0, 5, 2])\n",
    "print(*vecinos)"
   ]
  },
  {
   "cell_type": "code",
   "execution_count": 84,
   "metadata": {},
   "outputs": [
    {
     "data": {
      "text/plain": [
       "array([2, 7, 1, 4, 3, 6, 0, 5])"
      ]
     },
     "execution_count": 84,
     "metadata": {},
     "output_type": "execute_result"
    }
   ],
   "source": [
    "def generarInicial():\n",
    "    #JC\n",
    "    numbers = np.random.choice(range(8), 8, replace=False)\n",
    "    return numbers #arreglo de 8\n",
    "\n",
    "init_pos = generarInicial()\n",
    "init_pos"
   ]
  },
  {
   "cell_type": "code",
   "execution_count": 85,
   "metadata": {},
   "outputs": [
    {
     "data": {
      "text/plain": [
       "2"
      ]
     },
     "execution_count": 85,
     "metadata": {},
     "output_type": "execute_result"
    }
   ],
   "source": [
    "# Function to generate random numbers\n",
    "np.random.randint(0, 8)"
   ]
  },
  {
   "cell_type": "code",
   "execution_count": 93,
   "metadata": {},
   "outputs": [
    {
     "name": "stdout",
     "output_type": "stream",
     "text": [
      "0 2\n",
      "Cruces 0 2\n",
      "x:  0 y:  2\n",
      "x:  1 y:  3\n",
      "x:  2 y:  4\n",
      "x:  3 y:  5\n",
      "x:  4 y:  6\n",
      "x:  5 y:  7\n",
      "1 7\n",
      "Cruces 1 7\n",
      "x:  0 y:  7\n",
      "2 1\n",
      "Cruces 2 1\n",
      "x:  0 y:  1\n",
      "x:  1 y:  2\n",
      "x:  2 y:  3\n",
      "x:  3 y:  4\n",
      "x:  4 y:  5\n",
      "x:  5 y:  6\n",
      "x:  6 y:  7\n",
      "3 4\n",
      "Cruces 3 4\n",
      "x:  0 y:  4\n",
      "x:  1 y:  5\n",
      "x:  2 y:  6\n",
      "x:  3 y:  7\n",
      "4 3\n",
      "Cruces 4 3\n",
      "x:  0 y:  3\n",
      "x:  1 y:  4\n",
      "x:  2 y:  5\n",
      "x:  3 y:  6\n",
      "x:  4 y:  7\n",
      "5 6\n",
      "Cruces 5 6\n",
      "x:  0 y:  6\n",
      "x:  1 y:  7\n",
      "6 0\n",
      "Cruces 6 0\n",
      "x:  0 y:  0\n",
      "x:  1 y:  1\n",
      "x:  2 y:  2\n",
      "x:  3 y:  3\n",
      "x:  4 y:  4\n",
      "x:  5 y:  5\n",
      "x:  6 y:  6\n",
      "x:  7 y:  7\n",
      "7 5\n",
      "Cruces 7 5\n",
      "x:  0 y:  5\n",
      "x:  1 y:  6\n",
      "x:  2 y:  7\n"
     ]
    },
    {
     "data": {
      "text/plain": [
       "False"
      ]
     },
     "execution_count": 93,
     "metadata": {},
     "output_type": "execute_result"
    }
   ],
   "source": [
    "def crucesEnDiagonal(x, y):\n",
    "    print(\"Cruces\", x, y)\n",
    "    for x in range(8):\n",
    "        if(y <= 7):\n",
    "            print(\"x: \", x, \"y: \", y)\n",
    "            y += 1\n",
    "    return 0\n",
    "\n",
    "def existenCruces (posiciones):\n",
    "    for posicion in posiciones:  #Iterate in each position of the array\n",
    "        print(posiciones.tolist().index(posicion), posicion) # Method to get the index\n",
    "        crucesEnDiagonal(posiciones.tolist().index(posicion), posicion)\n",
    "        # Validate cross in \\\n",
    "        # for x in range(8):\n",
    "            # print(\"x: \", x, \"y: \", posicion)\n",
    "        # Validate cross in /\n",
    "        #for x in range(8):\n",
    "            #print(\"Rango\", x)\n",
    "    return False\n",
    "existenCruces(init_pos)"
   ]
  },
  {
   "cell_type": "code",
   "execution_count": null,
   "metadata": {},
   "outputs": [],
   "source": [
    "#el primero seria un arreglo de 8 y el segundo una lista de arreglos de 8\n",
    "def generarVecino (posicionActual):\n",
    "    #Generar las posiciones vecinas de las 8 reynas\n",
    "    #Comparar posición actual con las anteriores\n",
    "    for posAct in posicionActual:\n",
    "        # Get the previous positions of each column and append it to an array with the positions\n",
    "        newPos = np.random.randint(0, 8)\n",
    "        while posAct == newPos:\n",
    "            newPos = np.random.randint(0, 8)\n",
    "        # Check previous positions\n",
    "            \n",
    "    return posicionVecina #arreglo de 8"
   ]
  },
  {
   "cell_type": "code",
   "execution_count": null,
   "metadata": {},
   "outputs": [],
   "source": [
    "#Un arreglo de 8\n",
    "def cajaNegra(posiciones):\n",
    "    #Diego\n",
    "    return valor #un entero dependiendo de su valor"
   ]
  },
  {
   "cell_type": "code",
   "execution_count": null,
   "metadata": {},
   "outputs": [],
   "source": [
    "def greedy():\n",
    "    maxIter = 1000\n",
    "    actual = posicionInicial()\n",
    "    valorActual = cajaNegra(actual)\n",
    "    usados = []\n",
    "    for i in range(0,maxIter):\n",
    "        vecino = generarVecino(actual)\n",
    "        \n",
    "        diferente = true\n",
    "        for usado in usados:\n",
    "            if(usado == vecino):\n",
    "                diferente = false\n",
    "                break\n",
    "        \n",
    "        if(diferente):\n",
    "            valorVecino = cajaNegra(vecino)\n",
    "            if(valorVecino < valorActual):\n",
    "                valorActual = valorVecino\n",
    "                usados = [actual]\n",
    "                actual = vecino\n",
    "                \n",
    "                if(valorActual == 0):\n",
    "                    break\n",
    "            else:\n",
    "                usados.push(vecino)\n",
    "        \n",
    "    return actual "
   ]
  },
  {
   "cell_type": "code",
   "execution_count": null,
   "metadata": {},
   "outputs": [],
   "source": [
    "posicionesReinas = greedy()\n",
    "valorFinal = cajaNegra(posicionesReinas)\n",
    "\n",
    "print(\"Posiciones reinas: \" + str(posicionesReinas))\n",
    "print(\"Su valor: \" + str(valorFinal))"
   ]
  }
 ],
 "metadata": {
  "kernelspec": {
   "display_name": "Python 3",
   "language": "python",
   "name": "python3"
  },
  "language_info": {
   "codemirror_mode": {
    "name": "ipython",
    "version": 3
   },
   "file_extension": ".py",
   "mimetype": "text/x-python",
   "name": "python",
   "nbconvert_exporter": "python",
   "pygments_lexer": "ipython3",
   "version": "3.7.4"
  }
 },
 "nbformat": 4,
 "nbformat_minor": 4
}
