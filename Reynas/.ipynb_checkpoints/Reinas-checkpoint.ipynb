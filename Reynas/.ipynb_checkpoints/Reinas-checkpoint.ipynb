{
 "cells": [
  {
   "cell_type": "code",
   "execution_count": null,
   "metadata": {},
   "outputs": [],
   "source": [
    "#Problema de las 8 reinas"
   ]
  },
  {
   "cell_type": "code",
   "execution_count": 7,
   "metadata": {},
   "outputs": [],
   "source": [
    "import numpy as np\n",
    "from numpy.random import default_rng"
   ]
  },
  {
   "cell_type": "code",
   "execution_count": 10,
   "metadata": {},
   "outputs": [
    {
     "data": {
      "text/plain": [
       "array([7, 4, 5, 6, 0, 2, 1, 3])"
      ]
     },
     "execution_count": 10,
     "metadata": {},
     "output_type": "execute_result"
    }
   ],
   "source": [
    "def generarInicial():\n",
    "    #JuanCarlos\n",
    "    rng = default_rng()\n",
    "    numbers = rng.choice(8, size=8, replace=False)\n",
    "    return numbers #arreglo de 8\n",
    "\n",
    "generarInicial()"
   ]
  },
  {
   "cell_type": "code",
   "execution_count": 45,
   "metadata": {},
   "outputs": [],
   "source": [
    "#el primero seria un arreglo de 8 y el segundo una lista de arreglos de 8\n",
    "def generarVecino (posicionActual):\n",
    "    #JuanCarlos\n",
    "    return posicionVecina #arreglo de 8"
   ]
  },
  {
   "cell_type": "code",
   "execution_count": null,
   "metadata": {},
   "outputs": [],
   "source": [
    "#Un arreglo de 8\n",
    "def cajaNegra(posiciones):\n",
    "    #Diego\n",
    "    return valor #un entero dependiendo de su valor"
   ]
  },
  {
   "cell_type": "code",
   "execution_count": null,
   "metadata": {},
   "outputs": [],
   "source": [
    "def greedy():\n",
    "    maxIter = 1000\n",
    "    actual = posicionInicial()\n",
    "    valorActual = cajaNegra(actual)\n",
    "    usados = []\n",
    "    for i in range(0,maxIter):\n",
    "        vecino = generarVecino(actual)\n",
    "        \n",
    "        diferente = true\n",
    "        for usado in usados:\n",
    "            if(usado == vecino):\n",
    "                diferente = false\n",
    "                break\n",
    "        \n",
    "        if(diferente):\n",
    "            valorVecino = cajaNegra(vecino)\n",
    "            if(valorVecino < valorActual):\n",
    "                valorActual = valorVecino\n",
    "                usados = [actual]\n",
    "                actual = vecino\n",
    "                \n",
    "                if(valorActual == 0):\n",
    "                    break\n",
    "            else:\n",
    "                usados.push(vecino)\n",
    "        \n",
    "    return actual "
   ]
  },
  {
   "cell_type": "code",
   "execution_count": null,
   "metadata": {},
   "outputs": [],
   "source": [
    "posicionesReinas = greedy()\n",
    "valorFinal = cajaNegra(posicionesReinas)\n",
    "\n",
    "print(\"Posiciones reinas: \" + str(posicionesReinas))\n",
    "print(\"Su valor: \" + str(valorFinal))"
   ]
  }
 ],
 "metadata": {
  "kernelspec": {
   "display_name": "Python 3",
   "language": "python",
   "name": "python3"
  },
  "language_info": {
   "codemirror_mode": {
    "name": "ipython",
    "version": 3
   },
   "file_extension": ".py",
   "mimetype": "text/x-python",
   "name": "python",
   "nbconvert_exporter": "python",
   "pygments_lexer": "ipython3",
   "version": "3.7.4"
  }
 },
 "nbformat": 4,
 "nbformat_minor": 4
}
